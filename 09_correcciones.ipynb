{
 "cells": [
  {
   "cell_type": "markdown",
   "id": "ab958dff-c982-491a-b8ef-c06a7a049bfb",
   "metadata": {},
   "source": [
    "# Cálculo de intervalos de confianza (IC95%) de la edad por país\n",
    "\n",
    "En esta sección se calculan los intervalos de confianza del 95% (IC95%) para la edad media de los pacientes en cada país (Brasil, México y España).  \n",
    "Este análisis se añade como corrección solicitada por la tutora, para reforzar la representatividad de la muestra y aportar mayor solidez estadística en la Tabla 1 de Resultados.\n"
   ]
  },
  {
   "cell_type": "code",
   "execution_count": 1,
   "id": "038ad6bc-5802-43d8-b9d0-0d1bc86a30dc",
   "metadata": {},
   "outputs": [
    {
     "name": "stdout",
     "output_type": "stream",
     "text": [
      "     Pais    n  Media     DE  IC95_inf  IC95_sup\n",
      "0  Brazil  143  39.16   9.40     37.62     40.70\n",
      "1  Mexico   70  35.91  12.87     32.90     38.93\n",
      "2   Spain   77  52.17  12.68     49.34     55.00\n",
      "\n",
      "Nota para la tabla:\n",
      "Edad media (IC95%): Brazil 39.2 (37.6–40.7); Mexico 35.9 (32.9–38.9); Spain 52.2 (49.3–55.0). Muestra clínica; no pretende ser representativa de la población general con LES.\n"
     ]
    }
   ],
   "source": [
    "import pandas as pd\n",
    "import numpy as np\n",
    "import os\n",
    "\n",
    "# --- 1) Cargar dataset ---\n",
    "df = pd.read_csv(\"outputs/dataset_ready.csv\")\n",
    "\n",
    "# --- 2) Seleccionar columnas relevantes ---\n",
    "# Ajusta los nombres de columnas según tu dataset\n",
    "df = df.rename(columns={\"Age (years)\": \"Edad\", \"Country\": \"Pais\"})\n",
    "\n",
    "# --- 3) Limpiar valores nulos o no numéricos ---\n",
    "df = df.dropna(subset=[\"Edad\"])\n",
    "df[\"Edad\"] = pd.to_numeric(df[\"Edad\"], errors=\"coerce\")\n",
    "df = df.dropna(subset=[\"Edad\"])\n",
    "\n",
    "# --- 4) Calcular estadísticos e IC95% por país ---\n",
    "res = df.groupby(\"Pais\")[\"Edad\"].agg(\n",
    "    n=\"count\",\n",
    "    Media=\"mean\",\n",
    "    DE=lambda x: x.std(ddof=1)\n",
    ").reset_index()\n",
    "\n",
    "res[\"SEM\"] = res[\"DE\"] / np.sqrt(res[\"n\"])\n",
    "res[\"IC95_inf\"] = res[\"Media\"] - 1.96*res[\"SEM\"]\n",
    "res[\"IC95_sup\"] = res[\"Media\"] + 1.96*res[\"SEM\"]\n",
    "\n",
    "# --- 5) Redondear ---\n",
    "res_round = res.copy()\n",
    "cols = [\"Media\",\"DE\",\"IC95_inf\",\"IC95_sup\"]\n",
    "res_round[cols] = res_round[cols].round(2)\n",
    "\n",
    "# --- 6) Mostrar resultado ---\n",
    "print(res_round[[\"Pais\",\"n\",\"Media\",\"DE\",\"IC95_inf\",\"IC95_sup\"]])\n",
    "\n",
    "# --- 7) Exportar ---\n",
    "os.makedirs(\"outputs/tablas\", exist_ok=True)\n",
    "res_round.to_csv(\"outputs/tablas/tabla1_ic95_edad.csv\", index=False)\n",
    "res_round.to_excel(\"outputs/tablas/tabla1_ic95_edad.xlsx\", index=False)\n",
    "\n",
    "# --- 8) Generar nota para pegar bajo Tabla 1 ---\n",
    "def fmt_row(r):\n",
    "    return f\"{r['Pais']} {r['Media']:.1f} ({r['IC95_inf']:.1f}–{r['IC95_sup']:.1f})\"\n",
    "\n",
    "nota = \"; \".join([fmt_row(r) for _, r in res_round.iterrows()])\n",
    "print(\"\\nNota para la tabla:\")\n",
    "print(f\"Edad media (IC95%): {nota}. Muestra clínica; no pretende ser representativa de la población general con LES.\")\n"
   ]
  },
  {
   "cell_type": "markdown",
   "id": "42bd8cf2-9bd6-442e-b6c8-76116185e1a4",
   "metadata": {},
   "source": [
    "### Nota al pie para pegar debajo de la tabla\n",
    "\n",
    "Edad media (IC95%): Brasil 39.2 (37.6–40.7); México 35.9 (32.9–38.9); España 52.2 (49.3–55.0). Muestra clínica; no pretende ser representativa de la población general con LES."
   ]
  },
  {
   "cell_type": "markdown",
   "id": "827176d1-a389-47b3-90ef-6a903a9906dd",
   "metadata": {},
   "source": [
    "### Explicación del procedimiento\n",
    "1. Se seleccionaron las columnas `Edad` y `Pais` del dataset final (`dataset_ready.csv`).  \n",
    "2. Se eliminaron registros con valores nulos o no numéricos en la edad.  \n",
    "3. Se calcularon los estadísticos básicos por país:\n",
    "   - **n**: número de pacientes.  \n",
    "   - **Media**: edad media.  \n",
    "   - **DE**: desviación estándar.  \n",
    "4. A partir del error estándar de la media (SEM = DE/√n), se calcularon los intervalos de confianza del 95%:\n",
    "   - Límite inferior = Media – 1.96 × SEM  \n",
    "   - Límite superior = Media + 1.96 × SEM  \n",
    "5. Los resultados se redondearon a 2 decimales y se exportaron en formatos `.csv` y `.xlsx` para su documentación.\n"
   ]
  },
  {
   "cell_type": "code",
   "execution_count": null,
   "id": "8743b958-6125-43aa-84a4-e6b0590e7caf",
   "metadata": {},
   "outputs": [],
   "source": []
  }
 ],
 "metadata": {
  "kernelspec": {
   "display_name": "Python 3 (ipykernel)",
   "language": "python",
   "name": "python3"
  },
  "language_info": {
   "codemirror_mode": {
    "name": "ipython",
    "version": 3
   },
   "file_extension": ".py",
   "mimetype": "text/x-python",
   "name": "python",
   "nbconvert_exporter": "python",
   "pygments_lexer": "ipython3",
   "version": "3.11.7"
  }
 },
 "nbformat": 4,
 "nbformat_minor": 5
}
